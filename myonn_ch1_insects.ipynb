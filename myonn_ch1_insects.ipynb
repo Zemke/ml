{
 "cells": [
  {
   "cell_type": "markdown",
   "metadata": {
    "id": "1LbQvuTBsSDU"
   },
   "source": [
    "# Implementation of Chapter 1 of Make Your Own Neural Network"
   ]
  },
  {
   "cell_type": "code",
   "execution_count": 147,
   "metadata": {
    "id": "Le3JQVUJrkS4"
   },
   "outputs": [],
   "source": [
    "import matplotlib.pyplot as plt\n",
    "import numpy as np"
   ]
  },
  {
   "cell_type": "markdown",
   "metadata": {
    "id": "rGFQVR9Uw5uN"
   },
   "source": [
    "linearity: `y=mx+b` \\\n",
    "`b` is the point, where the line intersects the 'y axis' \\\n",
    "`b` is not required in our case as the line starts from the origin and is therefore always `0` \\\n",
    "and `m` denotes the slope of the line."
   ]
  },
  {
   "cell_type": "code",
   "execution_count": 148,
   "metadata": {
    "id": "uKNSS4-DXhCM"
   },
   "outputs": [],
   "source": [
    "ladybugs = np.array([[3.0, 1.0]])\n",
    "caterpillars = np.array([[1.0, 3.0]])"
   ]
  },
  {
   "cell_type": "markdown",
   "metadata": {
    "id": "oGJYa3Y64RO3"
   },
   "source": [
    "Let's attempt to find length `y` for ladybug when it is `3` of width `x`. To start somewhere let's start with a random `y` of `0.25`."
   ]
  },
  {
   "cell_type": "code",
   "execution_count": 149,
   "metadata": {
    "colab": {
     "base_uri": "https://localhost:8080/",
     "height": 283
    },
    "id": "upRqVI2O36cz",
    "outputId": "2027e341-2bb8-4731-b7a1-12a8d151f900"
   },
   "outputs": [
    {
     "data": {
      "image/png": "[encoded data removed]",
      "text/plain": [
       "<Figure size 432x288 with 1 Axes>"
      ]
     },
     "metadata": {
      "needs_background": "light"
     },
     "output_type": "display_data"
    },
    {
     "data": {
      "text/plain": [
       "0.75"
      ]
     },
     "execution_count": 149,
     "metadata": {},
     "output_type": "execute_result"
    }
   ],
   "source": [
    "A = .25\n",
    "x = 3.0\n",
    "y = A * x\n",
    "\n",
    "plt.scatter(ladybugs[:,0], ladybugs[:,1])\n",
    "plot1, = plt.plot([0,ladybugs[0][0]], [0,y])\n",
    "plt.show()\n",
    "\n",
    "y"
   ]
  },
  {
   "cell_type": "markdown",
   "metadata": {
    "id": "eRHvgTl45L9Y"
   },
   "source": [
    "Now for a width of `3` the length would be `.75` which is `.25` short of the actual length."
   ]
  },
  {
   "cell_type": "code",
   "execution_count": 150,
   "metadata": {
    "colab": {
     "base_uri": "https://localhost:8080/"
    },
    "id": "eg1pHPoX5ffD",
    "outputId": "e24b3c29-fd83-498a-9355-afab8e1f95e0"
   },
   "outputs": [
    {
     "data": {
      "text/plain": [
       "0.25"
      ]
     },
     "execution_count": 150,
     "metadata": {},
     "output_type": "execute_result"
    }
   ],
   "source": [
    "ladybugs[0][1] - y"
   ]
  },
  {
   "cell_type": "markdown",
   "metadata": {
    "id": "3PZ89pVz5uxY"
   },
   "source": [
    "The line should go above the dots for ladybug so we can actually separate from other data points. Therefore `y` should be just greater than that of a ladybug. Therefore we add `.1` to it.\n",
    "\n",
    "`E` is the errror. The difference between the expected value `1.1` which is `t` and the actual value `y`."
   ]
  },
  {
   "cell_type": "code",
   "execution_count": 151,
   "metadata": {
    "colab": {
     "base_uri": "https://localhost:8080/"
    },
    "id": "YyRMDhA925ik",
    "outputId": "af28bb1b-836c-4932-aa95-f60a3e78455a"
   },
   "outputs": [
    {
     "data": {
      "text/plain": [
       "(0.25, 0.8500000000000001)"
      ]
     },
     "execution_count": 151,
     "metadata": {},
     "output_type": "execute_result"
    }
   ],
   "source": [
    "y = .25\n",
    "t = ladybugs[0][1] + .1\n",
    "E = t - y\n",
    "y, E"
   ]
  },
  {
   "cell_type": "markdown",
   "metadata": {
    "id": "ITeYSFv_9U2K"
   },
   "source": [
    "# **`∆A = E / x`**\n",
    "\n",
    "Linear classifier\n",
    "\n",
    "```\n",
    "y = Ax\n",
    "```\n",
    "\n",
    "Therefore a delta in `A` will bring out the correct `y` to `x` correlation.\n",
    "\n",
    "```\n",
    "t = (A + ∆A)x\n",
    "```\n",
    "\n",
    "`t` is now the target value. The error `E` is the difference of the target value and the actual value.\n",
    "\n",
    "```\n",
    "E = t - y\n",
    "```\n",
    "\n",
    "Therefore you can say:\n",
    "\n",
    "```\n",
    "t - y = (A + ∆A)x - Ax\n",
    "```\n",
    "\n",
    "Expand and then simplify:\n",
    "\n",
    "```\n",
    "E = t - y = Ax + (∆A)x - Ax\n",
    "E = (∆A)x\n",
    "```\n",
    "\n",
    "We therefore know that `E` and `∆A` are closely related. \\\n",
    "Shifting the last expression:\n",
    "\n",
    "```\n",
    "∆A = E / x\n",
    "```\n",
    "\n",
    "Now we know how `A` needs to be changed to get to `y`."
   ]
  },
  {
   "cell_type": "code",
   "execution_count": 152,
   "metadata": {
    "colab": {
     "base_uri": "https://localhost:8080/",
     "height": 283
    },
    "id": "sEfZ1PyTmWoE",
    "outputId": "06baf0a4-abd1-4f1b-fe84-0d650762cc4c"
   },
   "outputs": [
    {
     "data": {
      "image/png": "[encoded data removed]",
      "text/plain": [
       "<Figure size 432x288 with 1 Axes>"
      ]
     },
     "metadata": {
      "needs_background": "light"
     },
     "output_type": "display_data"
    },
    {
     "data": {
      "text/plain": [
       "(0.36666666666666664, 1.0999999999999999)"
      ]
     },
     "execution_count": 152,
     "metadata": {},
     "output_type": "execute_result"
    }
   ],
   "source": [
    "E = .35\n",
    "x = 3.0\n",
    "A += E / x\n",
    "y = A * x\n",
    "\n",
    "plt.scatter(ladybugs[:,0], ladybugs[:,1])\n",
    "plot2, = plt.plot([0,ladybugs[0][0]], [0,y])\n",
    "plt.plot(plot1.get_xdata(), plot1.get_ydata(), linestyle = 'dotted')\n",
    "plt.show()\n",
    "\n",
    "A, y"
   ]
  },
  {
   "cell_type": "markdown",
   "metadata": {
    "id": "0NcKoz5_39-A"
   },
   "source": [
    "Now that we've learnt from the first ladybug. Let's move on with the next training data which is the first caterpillar."
   ]
  },
  {
   "cell_type": "code",
   "execution_count": 153,
   "metadata": {
    "colab": {
     "base_uri": "https://localhost:8080/",
     "height": 283
    },
    "id": "J8Qaikza0FY0",
    "outputId": "d9882b71-1bfc-438d-eb31-68b54bcbad48"
   },
   "outputs": [
    {
     "data": {
      "image/png": "[encoded data removed]",
      "text/plain": [
       "<Figure size 432x288 with 1 Axes>"
      ]
     },
     "metadata": {
      "needs_background": "light"
     },
     "output_type": "display_data"
    },
    {
     "data": {
      "text/plain": [
       "(0.3666666666666667, 0.35, 0.3666666666666667)"
      ]
     },
     "execution_count": 153,
     "metadata": {},
     "output_type": "execute_result"
    }
   ],
   "source": [
    "A = 0.3666666666666667\n",
    "x = 1.0\n",
    "y = A * x\n",
    "\n",
    "plt.scatter(ladybugs[:,0], ladybugs[:,1])\n",
    "plt.scatter(caterpillars[:,0], caterpillars[:,1])\n",
    "plot3, = plt.plot([0,ladybugs[0][0]], [0,y])\n",
    "plt.plot(plot1.get_xdata(), plot1.get_ydata(), linestyle = 'dotted')\n",
    "plt.plot(plot2.get_xdata(), plot2.get_ydata(), linestyle = 'dotted')\n",
    "plt.show()\n",
    "A, E, y"
   ]
  },
  {
   "cell_type": "markdown",
   "metadata": {
    "id": "6L1AURVo4NOn"
   },
   "source": [
    "That hasn't worked out at all. The new line being added has a much too small y. Let's amend A as we did when training for the first ladybug.\n"
   ]
  },
  {
   "cell_type": "code",
   "execution_count": 157,
   "metadata": {
    "colab": {
     "base_uri": "https://localhost:8080/",
     "height": 313
    },
    "id": "657so_TK4Yp-",
    "outputId": "c355d3cd-7a2c-409f-9b51-e142e8a04625"
   },
   "outputs": [
    {
     "data": {
      "image/png": "[encoded data removed]",
      "text/plain": [
       "<Figure size 432x288 with 1 Axes>"
      ]
     },
     "metadata": {
      "needs_background": "light"
     },
     "output_type": "display_data"
    },
    {
     "data": {
      "text/plain": [
       "(0.3666666666666667, 2.533333333333333, 2.9)"
      ]
     },
     "execution_count": 157,
     "metadata": {},
     "output_type": "execute_result"
    }
   ],
   "source": [
    "# again we're making sure that the line doesn't cross the training data\n",
    "# in the case of a caterpillar, the line needs to be just below it\n",
    "# starting_y = caterpillars[0][1] - .1\n",
    "# E = starting_y - A\n",
    "\n",
    "A = 0.3666666666666667\n",
    "x = 1.0\n",
    "t = caterpillars[0][1] - .1\n",
    "E = t - A\n",
    "y = (A + (E / x)) * x\n",
    "\n",
    "plt.scatter(ladybugs[:,0], ladybugs[:,1], label=\"Ladybugs\")\n",
    "plt.scatter(caterpillars[:,0], caterpillars[:,1], label=\"Caterpillars\")\n",
    "plot3, = plt.plot([0,caterpillars[0][0]], [0,y])\n",
    "plt.plot(plot1.get_xdata(), plot1.get_ydata(), linestyle = 'dotted')\n",
    "plt.plot(plot2.get_xdata(), plot2.get_ydata(), linestyle = 'dotted')\n",
    "plt.title(\"Caterpillar and Ladybug sizes\")\n",
    "plt.xlabel(\"Width\")\n",
    "plt.ylabel(\"Length\")\n",
    "plt.legend()\n",
    "plt.show()\n",
    "A, E, y"
   ]
  },
  {
   "cell_type": "markdown",
   "metadata": {
    "id": "3nJTZv6pqAAx"
   },
   "source": [
    "Okay, that worked nice and well but it's not what we need in the end. In the end we need a line that separates ladybugs and caterpillars quite close in the middle and not just below/above a caterpillar/ladybug.\n",
    "Therefore the changes we apply to `A` need to be more subtle.\n",
    "\n",
    "The idea is to reduce the influence of noise data. Remember that also the input samples are tweaking the outcome like weights and biases do.\n",
    "\n",
    "By only applying part of the change in `A` we're also respecting past changes to `A` by not totally overwriting it but keeping some of it.\n",
    "\n",
    "**The end result should be the accumulation of changes to `A` and not 100% of the last most recent change to `A`.**"
   ]
  },
  {
   "cell_type": "markdown",
   "metadata": {
    "id": "kSrGehzPsIkm"
   },
   "source": [
    "The idea could be to apply only part of the change to A (`∆A`). \\\n",
    "In this we're adding what's called a [moderation factor](https://en.wikipedia.org/wiki/Moderation_(statistics)).\n",
    "\n",
    "In ML it's often `L` and depicts the learning rate. We're starting with `.5` so only half of the change in `A` is actually applied."
   ]
  },
  {
   "cell_type": "code",
   "execution_count": 155,
   "metadata": {
    "colab": {
     "base_uri": "https://localhost:8080/",
     "height": 320
    },
    "id": "AQfGbfUhp_XV",
    "outputId": "1850a9d8-607a-4384-d884-63be062e6c49"
   },
   "outputs": [
    {
     "name": "stdout",
     "output_type": "stream",
     "text": [
      "A0 0.25\n",
      "A1 0.30833333333333335\n",
      "A2 1.6041666666666667\n"
     ]
    },
    {
     "data": {
      "image/png": "[encoded data removed]",
      "text/plain": [
       "<Figure size 432x288 with 1 Axes>"
      ]
     },
     "metadata": {
      "needs_background": "light"
     },
     "output_type": "display_data"
    }
   ],
   "source": [
    "L = .5\n",
    "\n",
    "x = 3.0\n",
    "A = .25\n",
    "y0 = A * x\n",
    "print(\"A0\", A)\n",
    "\n",
    "x = 3.0\n",
    "A = .25\n",
    "y = A * x\n",
    "t = ladybugs[0][1] + .1\n",
    "E = t - y\n",
    "A += L * (E / x)\n",
    "y1 = A * x\n",
    "print(\"A1\", A)\n",
    "\n",
    "x = 1.0\n",
    "y = A * x\n",
    "t = caterpillars[0][1] - .1\n",
    "E = t - y\n",
    "A += L * (E / x)\n",
    "y2 = A * x\n",
    "print(\"A2\", A)\n",
    "\n",
    "plt.scatter(caterpillars[:,0], caterpillars[:,1])\n",
    "plt.scatter(ladybugs[:,0], ladybugs[:,1])\n",
    "plt.plot([0, ladybugs[0][0]], [0, y0], linestyle = 'dotted')\n",
    "plt.plot([0, ladybugs[0][0]], [0, y1])\n",
    "plt.plot([0, caterpillars[0][0]], [0,y2])\n",
    "plt.show()"
   ]
  }
 ],
 "metadata": {
  "colab": {
   "authorship_tag": "ABX9TyPWg+UmY8TdJ+lj9Pd7WaVI",
   "collapsed_sections": [],
   "include_colab_link": true,
   "name": "myonn_ch1_insects.ipynb",
   "provenance": []
  },
  "kernelspec": {
   "display_name": "Python 3 (ipykernel)",
   "language": "python",
   "name": "python3"
  },
  "language_info": {
   "codemirror_mode": {
    "name": "ipython",
    "version": 3
   },
   "file_extension": ".py",
   "mimetype": "text/x-python",
   "name": "python",
   "nbconvert_exporter": "python",
   "pygments_lexer": "ipython3",
   "version": "3.9.7"
  }
 },
 "nbformat": 4,
 "nbformat_minor": 1
}
