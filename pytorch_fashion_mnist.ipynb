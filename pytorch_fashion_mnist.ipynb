{
 "cells": [
  {
   "cell_type": "code",
   "execution_count": 35,
   "id": "88bfe56e",
   "metadata": {},
   "outputs": [],
   "source": [
    "import torch\n",
    "from torch import nn\n",
    "from torch.utils.data import DataLoader\n",
    "from torchvision import datasets\n",
    "from torchvision.transforms import ToTensor, Lambda, Compose\n",
    "import matplotlib.pyplot as plt\n",
    "import numpy as np"
   ]
  },
  {
   "cell_type": "code",
   "execution_count": 2,
   "id": "a5bd1c41",
   "metadata": {},
   "outputs": [
    {
     "data": {
      "text/plain": [
       "tensor([[0.4886, 0.4983, 0.2158],\n",
       "        [0.9831, 0.5560, 0.2534],\n",
       "        [0.4004, 0.3867, 0.7440],\n",
       "        [0.1816, 0.1374, 0.4762],\n",
       "        [0.5898, 0.2154, 0.8166]])"
      ]
     },
     "execution_count": 2,
     "metadata": {},
     "output_type": "execute_result"
    }
   ],
   "source": [
    "torch.rand(5,3)"
   ]
  },
  {
   "cell_type": "code",
   "execution_count": 3,
   "id": "f25fb8cd",
   "metadata": {},
   "outputs": [
    {
     "name": "stderr",
     "output_type": "stream",
     "text": [
      "/opt/homebrew/lib/python3.9/site-packages/torchvision/datasets/mnist.py:498: UserWarning: The given NumPy array is not writeable, and PyTorch does not support non-writeable tensors. This means you can write to the underlying (supposedly non-writeable) NumPy array using the tensor. You may want to copy the array to protect its data or make it writeable before converting it to a tensor. This type of warning will be suppressed for the rest of this program. (Triggered internally at  ../torch/csrc/utils/tensor_numpy.cpp:189.)\n",
      "  return torch.from_numpy(parsed.astype(m[2], copy=False)).view(*s)\n"
     ]
    }
   ],
   "source": [
    "train = datasets.FashionMNIST(\n",
    "    root=\"data\",\n",
    "    train=True,\n",
    "    download=True,\n",
    "    transform=ToTensor(),\n",
    ")\n",
    "test = datasets.FashionMNIST(\n",
    "    root=\"data\",\n",
    "    train=False,\n",
    "    download=True,\n",
    "    transform=ToTensor(),\n",
    ")"
   ]
  },
  {
   "cell_type": "code",
   "execution_count": 4,
   "id": "d3cfcd0d",
   "metadata": {},
   "outputs": [],
   "source": [
    "batch_size = 32\n",
    "train_dl = DataLoader(train, batch_size=batch_size)\n",
    "test_dl = DataLoader(test, batch_size=batch_size)"
   ]
  },
  {
   "cell_type": "code",
   "execution_count": 5,
   "id": "173c3aca",
   "metadata": {},
   "outputs": [
    {
     "name": "stdout",
     "output_type": "stream",
     "text": [
      "Using cpu device\n"
     ]
    }
   ],
   "source": [
    "device = \"cuda\" if torch.cuda.is_available() else \"cpu\"\n",
    "print(\"Using {} device\".format(device))"
   ]
  },
  {
   "cell_type": "code",
   "execution_count": 76,
   "id": "7c053ef1",
   "metadata": {},
   "outputs": [
    {
     "name": "stdout",
     "output_type": "stream",
     "text": [
      "torch.Size([32, 1, 28, 28])\n",
      "torch.Size([32])\n"
     ]
    }
   ],
   "source": [
    "for X, y in test_dl:\n",
    "    print(X.shape)\n",
    "    print(y.shape)\n",
    "    break"
   ]
  },
  {
   "cell_type": "code",
   "execution_count": 144,
   "id": "6c17d784",
   "metadata": {},
   "outputs": [],
   "source": [
    "class NN(nn.Module):\n",
    "    def __init__(self, activ=None):\n",
    "        super(NN, self).__init__()\n",
    "        self.flatten = nn.Flatten()\n",
    "        self.model = nn.Sequential(\n",
    "            nn.Linear(28*28, 100),\n",
    "            activ(),\n",
    "            nn.Linear(100, 100),\n",
    "            activ(),\n",
    "            nn.Linear(100, 10)\n",
    "        )\n",
    "        \n",
    "    def forward(self, x):\n",
    "        x = self.flatten(x)\n",
    "        logits = self.model(x)\n",
    "        return logits\n"
   ]
  },
  {
   "cell_type": "code",
   "execution_count": 150,
   "id": "3774f999",
   "metadata": {},
   "outputs": [
    {
     "data": {
      "text/plain": [
       "[NN(\n",
       "   (flatten): Flatten(start_dim=1, end_dim=-1)\n",
       "   (model): Sequential(\n",
       "     (0): Linear(in_features=784, out_features=100, bias=True)\n",
       "     (1): ReLU()\n",
       "     (2): Linear(in_features=100, out_features=100, bias=True)\n",
       "     (3): ReLU()\n",
       "     (4): Linear(in_features=100, out_features=10, bias=True)\n",
       "   )\n",
       " ),\n",
       " NN(\n",
       "   (flatten): Flatten(start_dim=1, end_dim=-1)\n",
       "   (model): Sequential(\n",
       "     (0): Linear(in_features=784, out_features=100, bias=True)\n",
       "     (1): Sigmoid()\n",
       "     (2): Linear(in_features=100, out_features=100, bias=True)\n",
       "     (3): Sigmoid()\n",
       "     (4): Linear(in_features=100, out_features=10, bias=True)\n",
       "   )\n",
       " )]"
      ]
     },
     "execution_count": 150,
     "metadata": {},
     "output_type": "execute_result"
    }
   ],
   "source": [
    "models = [NN(nn.ReLU).to(device), NN(nn.Sigmoid).to(device)]\n",
    "optims = [torch.optim.SGD(m.parameters(), lr=1e-3) for m in models]\n",
    "models"
   ]
  },
  {
   "cell_type": "code",
   "execution_count": 151,
   "id": "8b62a13f",
   "metadata": {},
   "outputs": [
    {
     "name": "stdout",
     "output_type": "stream",
     "text": [
      "Epoch 1\n",
      "-------------------------------\n",
      "loss: 2.289914  [    0/60000]\n",
      "loss: 2.284118  [ 3200/60000]\n",
      "loss: 2.266824  [ 6400/60000]\n",
      "loss: 2.281034  [ 9600/60000]\n",
      "loss: 2.262739  [12800/60000]\n",
      "loss: 2.286728  [16000/60000]\n",
      "loss: 2.276735  [19200/60000]\n",
      "loss: 2.223109  [22400/60000]\n",
      "loss: 2.217638  [25600/60000]\n",
      "loss: 2.231149  [28800/60000]\n",
      "loss: 2.200844  [32000/60000]\n",
      "loss: 2.203092  [35200/60000]\n",
      "loss: 2.226351  [38400/60000]\n",
      "loss: 2.208076  [41600/60000]\n",
      "loss: 2.145327  [44800/60000]\n",
      "loss: 2.172478  [48000/60000]\n",
      "loss: 2.164041  [51200/60000]\n",
      "loss: 2.134209  [54400/60000]\n",
      "loss: 2.063841  [57600/60000]\n",
      "Epoch 2\n",
      "-------------------------------\n",
      "loss: 2.032917  [    0/60000]\n",
      "loss: 2.096742  [ 3200/60000]\n",
      "loss: 2.031110  [ 6400/60000]\n",
      "loss: 2.029968  [ 9600/60000]\n",
      "loss: 1.987978  [12800/60000]\n",
      "loss: 2.043529  [16000/60000]\n",
      "loss: 1.910532  [19200/60000]\n",
      "loss: 1.841567  [22400/60000]\n",
      "loss: 1.838423  [25600/60000]\n",
      "loss: 1.826014  [28800/60000]\n",
      "loss: 1.687403  [32000/60000]\n",
      "loss: 1.636662  [35200/60000]\n",
      "loss: 1.824590  [38400/60000]\n",
      "loss: 1.685723  [41600/60000]\n",
      "loss: 1.578259  [44800/60000]\n",
      "loss: 1.604808  [48000/60000]\n",
      "loss: 1.692777  [51200/60000]\n",
      "loss: 1.590694  [54400/60000]\n",
      "loss: 1.502324  [57600/60000]\n",
      "Epoch 3\n",
      "-------------------------------\n",
      "loss: 1.484714  [    0/60000]\n",
      "loss: 1.533126  [ 3200/60000]\n",
      "loss: 1.467921  [ 6400/60000]\n",
      "loss: 1.456992  [ 9600/60000]\n",
      "loss: 1.371518  [12800/60000]\n",
      "loss: 1.515318  [16000/60000]\n",
      "loss: 1.250222  [19200/60000]\n",
      "loss: 1.267217  [22400/60000]\n",
      "loss: 1.329141  [25600/60000]\n",
      "loss: 1.305822  [28800/60000]\n",
      "loss: 1.169241  [32000/60000]\n",
      "loss: 1.107965  [35200/60000]\n",
      "loss: 1.385057  [38400/60000]\n",
      "loss: 1.218723  [41600/60000]\n",
      "loss: 1.149420  [44800/60000]\n",
      "loss: 1.094585  [48000/60000]\n",
      "loss: 1.227852  [51200/60000]\n",
      "loss: 1.262193  [54400/60000]\n",
      "loss: 1.071167  [57600/60000]\n",
      "Epoch 4\n",
      "-------------------------------\n",
      "loss: 1.107882  [    0/60000]\n",
      "loss: 1.134332  [ 3200/60000]\n",
      "loss: 1.117348  [ 6400/60000]\n",
      "loss: 1.208162  [ 9600/60000]\n",
      "loss: 1.029487  [12800/60000]\n",
      "loss: 1.216467  [16000/60000]\n",
      "loss: 0.911811  [19200/60000]\n",
      "loss: 0.935767  [22400/60000]\n",
      "loss: 1.016038  [25600/60000]\n",
      "loss: 1.110317  [28800/60000]\n",
      "loss: 0.932179  [32000/60000]\n",
      "loss: 0.863996  [35200/60000]\n",
      "loss: 1.197568  [38400/60000]\n",
      "loss: 1.025194  [41600/60000]\n",
      "loss: 0.960431  [44800/60000]\n",
      "loss: 0.843814  [48000/60000]\n",
      "loss: 0.992514  [51200/60000]\n",
      "loss: 1.112642  [54400/60000]\n",
      "loss: 0.874933  [57600/60000]\n",
      "Epoch 5\n",
      "-------------------------------\n",
      "loss: 0.894536  [    0/60000]\n",
      "loss: 0.954694  [ 3200/60000]\n",
      "loss: 0.941486  [ 6400/60000]\n",
      "loss: 1.066710  [ 9600/60000]\n",
      "loss: 0.847807  [12800/60000]\n",
      "loss: 1.053262  [16000/60000]\n",
      "loss: 0.733797  [19200/60000]\n",
      "loss: 0.750214  [22400/60000]\n",
      "loss: 0.846282  [25600/60000]\n",
      "loss: 1.032460  [28800/60000]\n",
      "loss: 0.800699  [32000/60000]\n",
      "loss: 0.733609  [35200/60000]\n",
      "loss: 1.103393  [38400/60000]\n",
      "loss: 0.941440  [41600/60000]\n",
      "loss: 0.877892  [44800/60000]\n",
      "loss: 0.718056  [48000/60000]\n",
      "loss: 0.867443  [51200/60000]\n",
      "loss: 1.025728  [54400/60000]\n",
      "loss: 0.781031  [57600/60000]\n",
      "Epoch 1\n",
      "-------------------------------\n",
      "loss: 2.329779  [    0/60000]\n",
      "loss: 2.285973  [ 3200/60000]\n",
      "loss: 2.302265  [ 6400/60000]\n",
      "loss: 2.295720  [ 9600/60000]\n",
      "loss: 2.295630  [12800/60000]\n",
      "loss: 2.283710  [16000/60000]\n",
      "loss: 2.316269  [19200/60000]\n",
      "loss: 2.307588  [22400/60000]\n",
      "loss: 2.307616  [25600/60000]\n",
      "loss: 2.298434  [28800/60000]\n",
      "loss: 2.305871  [32000/60000]\n",
      "loss: 2.306759  [35200/60000]\n",
      "loss: 2.302011  [38400/60000]\n",
      "loss: 2.303033  [41600/60000]\n",
      "loss: 2.302025  [44800/60000]\n",
      "loss: 2.295984  [48000/60000]\n",
      "loss: 2.300690  [51200/60000]\n",
      "loss: 2.296973  [54400/60000]\n",
      "loss: 2.298144  [57600/60000]\n",
      "Epoch 2\n",
      "-------------------------------\n",
      "loss: 2.294478  [    0/60000]\n",
      "loss: 2.299829  [ 3200/60000]\n",
      "loss: 2.303250  [ 6400/60000]\n",
      "loss: 2.298286  [ 9600/60000]\n",
      "loss: 2.299271  [12800/60000]\n",
      "loss: 2.303006  [16000/60000]\n",
      "loss: 2.302264  [19200/60000]\n",
      "loss: 2.298499  [22400/60000]\n",
      "loss: 2.297667  [25600/60000]\n",
      "loss: 2.300643  [28800/60000]\n",
      "loss: 2.305632  [32000/60000]\n",
      "loss: 2.299968  [35200/60000]\n",
      "loss: 2.300149  [38400/60000]\n",
      "loss: 2.301772  [41600/60000]\n",
      "loss: 2.300283  [44800/60000]\n",
      "loss: 2.296405  [48000/60000]\n",
      "loss: 2.298816  [51200/60000]\n",
      "loss: 2.295212  [54400/60000]\n",
      "loss: 2.296634  [57600/60000]\n",
      "Epoch 3\n",
      "-------------------------------\n",
      "loss: 2.292448  [    0/60000]\n",
      "loss: 2.297898  [ 3200/60000]\n",
      "loss: 2.301467  [ 6400/60000]\n",
      "loss: 2.296430  [ 9600/60000]\n",
      "loss: 2.297164  [12800/60000]\n",
      "loss: 2.301491  [16000/60000]\n",
      "loss: 2.300044  [19200/60000]\n",
      "loss: 2.296109  [22400/60000]\n",
      "loss: 2.295411  [25600/60000]\n",
      "loss: 2.298790  [28800/60000]\n",
      "loss: 2.303419  [32000/60000]\n",
      "loss: 2.297588  [35200/60000]\n",
      "loss: 2.297916  [38400/60000]\n",
      "loss: 2.299760  [41600/60000]\n",
      "loss: 2.297986  [44800/60000]\n",
      "loss: 2.294207  [48000/60000]\n",
      "loss: 2.296508  [51200/60000]\n",
      "loss: 2.293377  [54400/60000]\n",
      "loss: 2.294219  [57600/60000]\n",
      "Epoch 4\n",
      "-------------------------------\n",
      "loss: 2.290138  [    0/60000]\n",
      "loss: 2.295582  [ 3200/60000]\n",
      "loss: 2.299416  [ 6400/60000]\n",
      "loss: 2.294348  [ 9600/60000]\n",
      "loss: 2.294826  [12800/60000]\n",
      "loss: 2.299673  [16000/60000]\n",
      "loss: 2.297703  [19200/60000]\n",
      "loss: 2.293565  [22400/60000]\n",
      "loss: 2.293020  [25600/60000]\n",
      "loss: 2.296726  [28800/60000]\n",
      "loss: 2.301022  [32000/60000]\n",
      "loss: 2.295063  [35200/60000]\n",
      "loss: 2.295472  [38400/60000]\n",
      "loss: 2.297560  [41600/60000]\n",
      "loss: 2.295483  [44800/60000]\n",
      "loss: 2.291774  [48000/60000]\n",
      "loss: 2.293943  [51200/60000]\n",
      "loss: 2.291369  [54400/60000]\n",
      "loss: 2.291520  [57600/60000]\n",
      "Epoch 5\n",
      "-------------------------------\n",
      "loss: 2.287597  [    0/60000]\n",
      "loss: 2.292991  [ 3200/60000]\n",
      "loss: 2.297151  [ 6400/60000]\n",
      "loss: 2.292035  [ 9600/60000]\n",
      "loss: 2.292242  [12800/60000]\n",
      "loss: 2.297632  [16000/60000]\n",
      "loss: 2.295081  [19200/60000]\n",
      "loss: 2.290729  [22400/60000]\n",
      "loss: 2.290354  [25600/60000]\n",
      "loss: 2.294400  [28800/60000]\n",
      "loss: 2.298366  [32000/60000]\n",
      "loss: 2.292280  [35200/60000]\n",
      "loss: 2.292711  [38400/60000]\n",
      "loss: 2.295087  [41600/60000]\n",
      "loss: 2.292676  [44800/60000]\n",
      "loss: 2.289019  [48000/60000]\n",
      "loss: 2.291003  [51200/60000]\n",
      "loss: 2.289108  [54400/60000]\n",
      "loss: 2.288420  [57600/60000]\n"
     ]
    },
    {
     "data": {
      "image/png": "[encoded data removed]",
      "text/plain": [
       "<Figure size 576x288 with 1 Axes>"
      ]
     },
     "metadata": {
      "needs_background": "light"
     },
     "output_type": "display_data"
    }
   ],
   "source": [
    "plt.figure(figsize=(8,4))\n",
    "losses = [[], []]\n",
    "size = len(train_dl.dataset)\n",
    "epochs = 5\n",
    "# for mi in range(len(models)):\n",
    "for mi in [0, 1]:\n",
    "    loss_fn = nn.CrossEntropyLoss()\n",
    "    for t in range(epochs):\n",
    "        print(f\"Epoch {t+1}\\n-------------------------------\")\n",
    "\n",
    "        models[mi].train()\n",
    "        for batch, (X, y) in enumerate(train_dl):\n",
    "            X, y = X.to(device), y.to(device)\n",
    "\n",
    "            # Compute prediction error\n",
    "            pred = models[mi](X)\n",
    "            loss = loss_fn(pred, y)\n",
    "\n",
    "            # Backpropagation\n",
    "            optims[mi].zero_grad()\n",
    "            loss.backward()\n",
    "            optims[mi].step()\n",
    "\n",
    "\n",
    "            if batch % 100 == 0:\n",
    "                loss, current = loss.item(), batch * len(X)\n",
    "                print(f\"loss: {loss:>7f}  [{current:>5d}/{size:>5d}]\")\n",
    "                losses[mi].append(loss)\n"
   ]
  },
  {
   "cell_type": "code",
   "execution_count": 157,
   "id": "3f1fddaa",
   "metadata": {},
   "outputs": [
    {
     "data": {
      "image/png": "[encoded data removed]",
      "text/plain": [
       "<Figure size 540x252 with 1 Axes>"
      ]
     },
     "metadata": {
      "needs_background": "light"
     },
     "output_type": "display_data"
    },
    {
     "data": {
      "text/plain": [
       "(2, 95)"
      ]
     },
     "execution_count": 157,
     "metadata": {},
     "output_type": "execute_result"
    }
   ],
   "source": [
    "plt.plot(losses[0], label='relu')\n",
    "plt.plot(losses[1], label='sigmoid')\n",
    "plt.legend()\n",
    "plt.show()\n",
    "np.array(losses).shape"
   ]
  },
  {
   "cell_type": "markdown",
   "id": "5e97fbf3",
   "metadata": {},
   "source": [
    "TODO: Same test with number MNIST"
   ]
  }
 ],
 "metadata": {
  "kernelspec": {
   "display_name": "Python 3 (ipykernel)",
   "language": "python",
   "name": "python3"
  },
  "language_info": {
   "codemirror_mode": {
    "name": "ipython",
    "version": 3
   },
   "file_extension": ".py",
   "mimetype": "text/x-python",
   "name": "python",
   "nbconvert_exporter": "python",
   "pygments_lexer": "ipython3",
   "version": "3.9.7"
  }
 },
 "nbformat": 4,
 "nbformat_minor": 5
}
