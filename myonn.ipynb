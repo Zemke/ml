{
 "cells": [
  {
   "cell_type": "code",
   "execution_count": 1,
   "id": "e9b7716f",
   "metadata": {},
   "outputs": [],
   "source": [
    "import numpy as np\n",
    "import matplotlib.pyplot as plt\n",
    "import scipy.special\n",
    "%matplotlib inline"
   ]
  },
  {
   "cell_type": "code",
   "execution_count": 2,
   "id": "0e3340f1",
   "metadata": {},
   "outputs": [],
   "source": [
    "class NeuralNetwork:\n",
    "    def __init__(self, inputnodes, hiddennodes, outputnodes, learningrate):\n",
    "        self.inodes = inputnodes\n",
    "        self.hnodes = hiddennodes\n",
    "        self.onodes = outputnodes\n",
    "        self.lr = learningrate\n",
    "        rng = np.random.default_rng(0)\n",
    "        self.wih = rng.random((hnodes, inodes)) - self.lr\n",
    "        self.who = rng.random((onodes, hnodes)) - self.lr\n",
    "        self.act = lambda x: scipy.special.expit(x)  # sigmoid\n",
    "        print(\"wih\\n\", self.wih)\n",
    "        print(\"who\\n\", self.who)\n",
    "    \n",
    "    def train(self, inputs, targets):\n",
    "        inputs = np.array(inputs, ndmin=2).T  # (3,1)\n",
    "        print(\"inputs\\n\", inputs)\n",
    "              \n",
    "        targets = np.array(targets, ndmin=2).T  # (3,1)\n",
    "        print(\"targets\\n\", targets)\n",
    "\n",
    "        i_h = np.dot(self.wih, inputs)\n",
    "        print(\"i_h\", i_h)\n",
    "        \n",
    "        i_h_act = self.act(i_h)\n",
    "        print(\"i_h_act\", i_h_act)\n",
    "        \n",
    "        h_o = np.dot(self.who, i_h_act)\n",
    "        print(\"h_o\", h_o)\n",
    "        \n",
    "        h_o_act = self.act(h_o)\n",
    "        print(\"h_o_act\", h_o_act)\n",
    "        \n",
    "      \n",
    "        # backpropagation\n",
    "        e_h_o = targets - h_o_act\n",
    "        bp_h_o = np.dot(self.who.T, e_h_o)\n",
    "        print(\"e_h_o\\n\",e_h_o)\n",
    "            \n",
    "        #                                          ________matrices_________\n",
    "        #                             ____________|___________________    __|____\n",
    "        #                            |                                |  |       |\n",
    "        # ∆Wjk    =    α    *          Ek   *    Ok   *   (1 - Ok)     *   Oj^T\n",
    "        self.who += self.lr * np.dot(bp_h_o * h_o_act * (1.0 - h_o_act), i_h_act.T)\n",
    "        #                                     |_______________________|\n",
    "        #                                       derivative of sigmoid\n",
    "\n",
    "\n",
    "        # the same procedure for the previous layer\n",
    "\n",
    "        e_i_h = targets - i_h_act\n",
    "        bp_i_h = np.dot(self.who.T, e_i_h)\n",
    "        print(\"e_i_h\\n\",e_i_h)\n",
    "\n",
    "        self.wih += self.lr * np.dot(bp_i_h * i_h_act * (1.0 - i_h_act), inputs.T)\n",
    "        \n",
    "        return self.wih, self.who\n",
    "    \n",
    "\n",
    "    def query(self, inputs):\n",
    "        inputs = np.array(inputs, ndmin=2).T\n",
    "        print(\"inputs\\n\", inputs)\n",
    "\n",
    "        i_h = np.dot(self.wih, inputs)\n",
    "        print(\"i_h\", i_h)\n",
    "        \n",
    "        i_h_act = self.act(i_h)\n",
    "        print(\"i_h_act\", i_h_act)\n",
    "        \n",
    "        h_o = np.dot(self.who, i_h_act)\n",
    "        print(\"h_o\", h_o)\n",
    "        \n",
    "        h_o_act = self.act(h_o)\n",
    "        print(\"h_o_act\", h_o_act)\n",
    "        \n",
    "        return h_o_act\n",
    "                   "
   ]
  },
  {
   "cell_type": "code",
   "execution_count": null,
   "id": "e1fa219b",
   "metadata": {},
   "outputs": [],
   "source": []
  },
  {
   "cell_type": "code",
   "execution_count": 3,
   "id": "42122ed2",
   "metadata": {
    "scrolled": false
   },
   "outputs": [
    {
     "name": "stdout",
     "output_type": "stream",
     "text": [
      "wih\n",
      " [[ 0.33696169 -0.03021329 -0.25902648]\n",
      " [-0.28347236  0.51327024  0.61275558]\n",
      " [ 0.30663578  0.42949656  0.24362499]]\n",
      "who\n",
      " [[ 0.63507242  0.51585355 -0.2972615 ]\n",
      " [ 0.55740428 -0.26641442  0.42965545]\n",
      " [-0.12434438  0.56317892  0.24146122]]\n"
     ]
    }
   ],
   "source": [
    "inodes = 3\n",
    "hnodes = 3\n",
    "onodes = 3\n",
    "lr = .3\n",
    "\n",
    "n = NeuralNetwork(inodes, hnodes, onodes, lr)"
   ]
  },
  {
   "cell_type": "code",
   "execution_count": 4,
   "id": "cc9333be",
   "metadata": {},
   "outputs": [
    {
     "name": "stdout",
     "output_type": "stream",
     "text": [
      "wih\n",
      " [[ 0.33696169 -0.03021329 -0.25902648]\n",
      " [-0.28347236  0.51327024  0.61275558]\n",
      " [ 0.30663578  0.42949656  0.24362499]]\n",
      "who\n",
      " [[ 0.63507242  0.51585355 -0.2972615 ]\n",
      " [ 0.55740428 -0.26641442  0.42965545]\n",
      " [-0.12434438  0.56317892  0.24146122]]\n"
     ]
    }
   ],
   "source": [
    "# number of input, hidden and output nodes\n",
    "input_nodes = 3\n",
    "hidden_nodes = 3\n",
    "output_nodes = 3\n",
    "\n",
    "# learning rate is 0.3\n",
    "learning_rate = 0.3\n",
    "\n",
    "# create instance of neural network\n",
    "n = NeuralNetwork(input_nodes,hidden_nodes,output_nodes, learning_rate)"
   ]
  },
  {
   "cell_type": "code",
   "execution_count": 5,
   "id": "4ac56a14",
   "metadata": {},
   "outputs": [
    {
     "name": "stdout",
     "output_type": "stream",
     "text": [
      "inputs\n",
      " [[ 1. ]\n",
      " [ 0.5]\n",
      " [-1.5]]\n",
      "i_h [[ 0.71039476]\n",
      " [-0.94597061]\n",
      " [ 0.15594657]]\n",
      "i_h_act [[0.67048838]\n",
      " [0.27969589]\n",
      " [0.53890782]]\n",
      "h_o [[0.40989425]\n",
      " [0.53076275]\n",
      " [0.20427271]]\n",
      "h_o_act [[0.60106252]\n",
      " [0.62966099]\n",
      " [0.55089134]]\n"
     ]
    },
    {
     "data": {
      "text/plain": [
       "array([[0.60106252],\n",
       "       [0.62966099],\n",
       "       [0.55089134]])"
      ]
     },
     "execution_count": 5,
     "metadata": {},
     "output_type": "execute_result"
    }
   ],
   "source": [
    "n.query([1.0, 0.5, -1.5])"
   ]
  },
  {
   "cell_type": "code",
   "execution_count": 6,
   "id": "4abff4fd",
   "metadata": {},
   "outputs": [
    {
     "name": "stdout",
     "output_type": "stream",
     "text": [
      "inputs\n",
      " [[ 1. ]\n",
      " [ 0.5]\n",
      " [-1.5]]\n",
      "targets\n",
      " [[0.3]\n",
      " [0.5]\n",
      " [0.6]]\n",
      "i_h [[ 0.71039476]\n",
      " [-0.94597061]\n",
      " [ 0.15594657]]\n",
      "i_h_act [[0.67048838]\n",
      " [0.27969589]\n",
      " [0.53890782]]\n",
      "h_o [[0.40989425]\n",
      " [0.53076275]\n",
      " [0.20427271]]\n",
      "h_o_act [[0.60106252]\n",
      " [0.62966099]\n",
      " [0.55089134]]\n",
      "e_h_o\n",
      " [[-0.30106252]\n",
      " [-0.12966099]\n",
      " [ 0.04910866]]\n",
      "e_i_h\n",
      " [[-0.37048838]\n",
      " [ 0.22030411]\n",
      " [ 0.06109218]]\n"
     ]
    },
    {
     "data": {
      "text/plain": [
       "(array([[ 0.32926716, -0.03406055, -0.24748468],\n",
       "        [-0.29639066,  0.50681109,  0.63213301],\n",
       "        [ 0.32324074,  0.43779904,  0.21871755]]),\n",
       " array([[ 0.62207016,  0.51042963, -0.30771212],\n",
       "        [ 0.55303725, -0.26823614,  0.42614543],\n",
       "        [-0.12207295,  0.56412646,  0.24328689]]))"
      ]
     },
     "execution_count": 6,
     "metadata": {},
     "output_type": "execute_result"
    }
   ],
   "source": [
    "n.train([1.0, 0.5, -1.5], [.3, .5, .6])"
   ]
  }
 ],
 "metadata": {
  "kernelspec": {
   "display_name": "Python 3 (ipykernel)",
   "language": "python",
   "name": "python3"
  },
  "language_info": {
   "codemirror_mode": {
    "name": "ipython",
    "version": 3
   },
   "file_extension": ".py",
   "mimetype": "text/x-python",
   "name": "python",
   "nbconvert_exporter": "python",
   "pygments_lexer": "ipython3",
   "version": "3.9.7"
  }
 },
 "nbformat": 4,
 "nbformat_minor": 5
}
