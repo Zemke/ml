{
 "cells": [
  {
   "cell_type": "code",
   "execution_count": 1,
   "id": "e9b7716f",
   "metadata": {},
   "outputs": [],
   "source": [
    "import numpy as np\n",
    "import matplotlib.pyplot as plt\n",
    "import scipy.special\n",
    "%matplotlib inline"
   ]
  },
  {
   "cell_type": "code",
   "execution_count": 2,
   "id": "0e3340f1",
   "metadata": {},
   "outputs": [],
   "source": [
    "class NeuralNetwork:\n",
    "    def __init__(self, inputnodes, hiddennodes, outputnodes, learningrate):\n",
    "        self.inodes = inputnodes\n",
    "        self.hnodes = hiddennodes\n",
    "        self.onodes = outputnodes\n",
    "        self.lr = learningrate\n",
    "        rng = np.random.default_rng(0)\n",
    "#         self.wih = rng.random((hnodes, inodes)) - self.lr\n",
    "#         self.who = rng.random((onodes, hnodes)) - self.lr\n",
    "        self.wih = np.random.normal(0.0, pow(self.inodes, -0.5), (self.hnodes, self.inodes))\n",
    "        self.who = np.random.normal(0.0, pow(self.hnodes, -0.5), (self.onodes, self.hnodes))\n",
    "        self.act = lambda x: scipy.special.expit(x)  # sigmoid\n",
    "    \n",
    "    def train(self, inputs, targets):\n",
    "        inputs = np.array(inputs, ndmin=2).T\n",
    "        targets = np.array(targets, ndmin=2).T\n",
    "\n",
    "        i_h = np.dot(self.wih, inputs)\n",
    "        i_h_act = self.act(i_h)\n",
    "        h_o = np.dot(self.who, i_h_act)\n",
    "        h_o_act = self.act(h_o)\n",
    "      \n",
    "        e_h_o = targets - h_o_act\n",
    "        bp_h_o = np.dot(self.who.T, e_h_o)\n",
    "\n",
    "        self.who += self.lr * np.dot(e_h_o * h_o_act * (1.0 - h_o_act), i_h_act.T)\n",
    "\n",
    "        self.wih += self.lr * np.dot(bp_h_o * i_h_act * (1.0 - i_h_act), inputs.T)\n",
    "        \n",
    "        return self.wih, self.who\n",
    "    \n",
    "\n",
    "    def query(self, inputs):\n",
    "        inputs = np.array(inputs, ndmin=2).T\n",
    "        i_h = np.dot(self.wih, inputs)\n",
    "        i_h_act = self.act(i_h)\n",
    "        h_o = np.dot(self.who, i_h_act)\n",
    "        h_o_act = self.act(h_o)\n",
    "        return h_o_act\n",
    "                   "
   ]
  },
  {
   "cell_type": "code",
   "execution_count": 3,
   "id": "f40f0704",
   "metadata": {},
   "outputs": [],
   "source": [
    "f1 = open(\"mnist/mnist_test.csv\", 'r')\n",
    "f2 = open(\"mnist/mnist_train.csv\", 'r')\n",
    "test_ln = f1.readlines()\n",
    "train_ln = f2.readlines()\n",
    "f1.close()\n",
    "f2.close()"
   ]
  },
  {
   "cell_type": "code",
   "execution_count": 4,
   "id": "a03f8edd",
   "metadata": {},
   "outputs": [
    {
     "data": {
      "text/plain": [
       "((10000, 785), (60000, 785))"
      ]
     },
     "execution_count": 4,
     "metadata": {},
     "output_type": "execute_result"
    }
   ],
   "source": [
    "mnist_test = np.array([[int(s) for s in ln.strip().split(\",\")] for ln in test_ln])\n",
    "mnist_train = np.array([[int(s) for s in ln.strip().split(\",\")] for ln in train_ln])\n",
    "mnist_test.shape, mnist_train.shape"
   ]
  },
  {
   "cell_type": "code",
   "execution_count": 5,
   "id": "1bc7c35d",
   "metadata": {},
   "outputs": [],
   "source": [
    "mnist_train_scaled = mnist_train[:, 1:] / 255 * .99 + .01\n",
    "mnist_test_scaled = mnist_test[:, 1:] / 255 * .99 + .01"
   ]
  },
  {
   "cell_type": "code",
   "execution_count": 6,
   "id": "27abf9ae",
   "metadata": {},
   "outputs": [
    {
     "data": {
      "image/png": "[encoded data removed]",
      "text/plain": [
       "<Figure size 432x288 with 1 Axes>"
      ]
     },
     "metadata": {
      "needs_background": "light"
     },
     "output_type": "display_data"
    },
    {
     "data": {
      "text/plain": [
       "5"
      ]
     },
     "execution_count": 6,
     "metadata": {},
     "output_type": "execute_result"
    }
   ],
   "source": [
    "imgplot = plt.imshow(mnist_train_scaled[0].reshape((28,28)))\n",
    "plt.show()\n",
    "mnist_train[0,0]"
   ]
  },
  {
   "cell_type": "code",
   "execution_count": 7,
   "id": "eb2f506d",
   "metadata": {
    "scrolled": false
   },
   "outputs": [],
   "source": [
    "inodes = mnist_train.shape[1]-1\n",
    "hnodes = 100\n",
    "onodes = len(np.unique(mnist_train[:, 0]))\n",
    "lr = .5\n",
    "\n",
    "n = NeuralNetwork(inodes, hnodes, onodes, lr)\n",
    "inputs = mnist_train_scaled\n",
    "targets = mnist_train[:,0]\n",
    "for k in range(3):\n",
    "    for i in range(len(targets)):\n",
    "        onehot = np.zeros(onodes) + .01\n",
    "        onehot[targets[i]] = .99\n",
    "        n.train(inputs[i], onehot)"
   ]
  },
  {
   "cell_type": "code",
   "execution_count": 8,
   "id": "6700d056",
   "metadata": {},
   "outputs": [
    {
     "data": {
      "text/plain": [
       "0.9131"
      ]
     },
     "execution_count": 8,
     "metadata": {},
     "output_type": "execute_result"
    }
   ],
   "source": [
    "correct = 0\n",
    "for i in range(len(mnist_test)):\n",
    "    r = np.argmax(n.query(mnist_test_scaled[i]))\n",
    "    correct += r == mnist_test[i, 0]\n",
    "correct / mnist_test.shape[0]"
   ]
  },
  {
   "cell_type": "code",
   "execution_count": 9,
   "id": "7f2f89b3",
   "metadata": {},
   "outputs": [
    {
     "data": {
      "image/png": "[encoded data removed]",
      "text/plain": [
       "<Figure size 432x288 with 1 Axes>"
      ]
     },
     "metadata": {
      "needs_background": "light"
     },
     "output_type": "display_data"
    },
    {
     "data": {
      "text/plain": [
       "2"
      ]
     },
     "execution_count": 9,
     "metadata": {},
     "output_type": "execute_result"
    }
   ],
   "source": [
    "imgplot = plt.imshow(mnist_test[888, 1:].reshape(28, 28))\n",
    "plt.show()\n",
    "np.argmax(n.query(mnist_test[888, 1:]))"
   ]
  }
 ],
 "metadata": {
  "kernelspec": {
   "display_name": "Python 3 (ipykernel)",
   "language": "python",
   "name": "python3"
  },
  "language_info": {
   "codemirror_mode": {
    "name": "ipython",
    "version": 3
   },
   "file_extension": ".py",
   "mimetype": "text/x-python",
   "name": "python",
   "nbconvert_exporter": "python",
   "pygments_lexer": "ipython3",
   "version": "3.9.7"
  }
 },
 "nbformat": 4,
 "nbformat_minor": 5
}
